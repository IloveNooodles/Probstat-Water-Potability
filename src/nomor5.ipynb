{
 "cells": [
  {
   "cell_type": "markdown",
   "metadata": {},
   "source": [
    "### NO 5\n",
    "Melakukan test hipotesis 2 sampel"
   ]
  },
  {
   "cell_type": "code",
   "execution_count": 1,
   "metadata": {},
   "outputs": [],
   "source": [
    "import scipy.stats as st\n",
    "import pandas as pd\n",
    "import matplotlib.pyplot as plt\n",
    "from statsmodels.stats.weightstats import ztest\n",
    "from statsmodels.stats.proportion import proportions_ztest\n"
   ]
  },
  {
   "cell_type": "code",
   "execution_count": 2,
   "metadata": {},
   "outputs": [
    {
     "data": {
      "text/html": [
       "<div>\n",
       "<style scoped>\n",
       "    .dataframe tbody tr th:only-of-type {\n",
       "        vertical-align: middle;\n",
       "    }\n",
       "\n",
       "    .dataframe tbody tr th {\n",
       "        vertical-align: top;\n",
       "    }\n",
       "\n",
       "    .dataframe thead th {\n",
       "        text-align: right;\n",
       "    }\n",
       "</style>\n",
       "<table border=\"1\" class=\"dataframe\">\n",
       "  <thead>\n",
       "    <tr style=\"text-align: right;\">\n",
       "      <th></th>\n",
       "      <th>id</th>\n",
       "      <th>pH</th>\n",
       "      <th>Hardness</th>\n",
       "      <th>Solids</th>\n",
       "      <th>Chloramines</th>\n",
       "      <th>Sulfate</th>\n",
       "      <th>Conductivity</th>\n",
       "      <th>OrganicCarbon</th>\n",
       "      <th>Trihalomethanes</th>\n",
       "      <th>Turbidity</th>\n",
       "      <th>Potability</th>\n",
       "    </tr>\n",
       "  </thead>\n",
       "  <tbody>\n",
       "    <tr>\n",
       "      <th>0</th>\n",
       "      <td>1</td>\n",
       "      <td>8.316766</td>\n",
       "      <td>214.373394</td>\n",
       "      <td>22018.417441</td>\n",
       "      <td>8.059332</td>\n",
       "      <td>356.886136</td>\n",
       "      <td>363.266516</td>\n",
       "      <td>18.436524</td>\n",
       "      <td>100.341674</td>\n",
       "      <td>4.628771</td>\n",
       "      <td>0</td>\n",
       "    </tr>\n",
       "    <tr>\n",
       "      <th>1</th>\n",
       "      <td>2</td>\n",
       "      <td>9.092223</td>\n",
       "      <td>181.101509</td>\n",
       "      <td>17978.986339</td>\n",
       "      <td>6.546600</td>\n",
       "      <td>310.135738</td>\n",
       "      <td>398.410813</td>\n",
       "      <td>11.558279</td>\n",
       "      <td>31.997993</td>\n",
       "      <td>4.075075</td>\n",
       "      <td>0</td>\n",
       "    </tr>\n",
       "    <tr>\n",
       "      <th>2</th>\n",
       "      <td>3</td>\n",
       "      <td>5.584087</td>\n",
       "      <td>188.313324</td>\n",
       "      <td>28748.687739</td>\n",
       "      <td>7.544869</td>\n",
       "      <td>326.678363</td>\n",
       "      <td>280.467916</td>\n",
       "      <td>8.399735</td>\n",
       "      <td>54.917862</td>\n",
       "      <td>2.559708</td>\n",
       "      <td>0</td>\n",
       "    </tr>\n",
       "    <tr>\n",
       "      <th>3</th>\n",
       "      <td>4</td>\n",
       "      <td>10.223862</td>\n",
       "      <td>248.071735</td>\n",
       "      <td>28749.716544</td>\n",
       "      <td>7.513408</td>\n",
       "      <td>393.663396</td>\n",
       "      <td>283.651634</td>\n",
       "      <td>13.789695</td>\n",
       "      <td>84.603556</td>\n",
       "      <td>2.672989</td>\n",
       "      <td>0</td>\n",
       "    </tr>\n",
       "    <tr>\n",
       "      <th>4</th>\n",
       "      <td>5</td>\n",
       "      <td>8.635849</td>\n",
       "      <td>203.361523</td>\n",
       "      <td>13672.091764</td>\n",
       "      <td>4.563009</td>\n",
       "      <td>303.309771</td>\n",
       "      <td>474.607645</td>\n",
       "      <td>12.363817</td>\n",
       "      <td>62.798309</td>\n",
       "      <td>4.401425</td>\n",
       "      <td>0</td>\n",
       "    </tr>\n",
       "  </tbody>\n",
       "</table>\n",
       "</div>"
      ],
      "text/plain": [
       "   id         pH    Hardness        Solids  Chloramines     Sulfate  \\\n",
       "0   1   8.316766  214.373394  22018.417441     8.059332  356.886136   \n",
       "1   2   9.092223  181.101509  17978.986339     6.546600  310.135738   \n",
       "2   3   5.584087  188.313324  28748.687739     7.544869  326.678363   \n",
       "3   4  10.223862  248.071735  28749.716544     7.513408  393.663396   \n",
       "4   5   8.635849  203.361523  13672.091764     4.563009  303.309771   \n",
       "\n",
       "   Conductivity  OrganicCarbon  Trihalomethanes  Turbidity  Potability  \n",
       "0    363.266516      18.436524       100.341674   4.628771           0  \n",
       "1    398.410813      11.558279        31.997993   4.075075           0  \n",
       "2    280.467916       8.399735        54.917862   2.559708           0  \n",
       "3    283.651634      13.789695        84.603556   2.672989           0  \n",
       "4    474.607645      12.363817        62.798309   4.401425           0  "
      ]
     },
     "execution_count": 2,
     "metadata": {},
     "output_type": "execute_result"
    }
   ],
   "source": [
    "col_names = ['id', 'pH', 'Hardness', 'Solids', 'Chloramines', 'Sulfate',\n",
    "             'Conductivity', 'OrganicCarbon', 'Trihalomethanes', 'Turbidity', 'Potability']\n",
    "df = pd.read_csv('../data/water_potability.csv', names=col_names)\n",
    "df.head()"
   ]
  },
  {
   "cell_type": "markdown",
   "metadata": {},
   "source": [
    "#### a) Data kolom Sulfate dibagi 2 sama rata: bagian awal dan bagian akhir kolom. Benarkah rata-rata kedua bagian tersebut sama?"
   ]
  },
  {
   "cell_type": "markdown",
   "metadata": {},
   "source": [
    "$H_0$: Nilai rata-rata kolom awal sulfate sama dengan nilai rata-rata kolom akhir sulfate $(\\mu_1 - \\mu_2 = 0)$\n",
    "\n",
    "$H_1$: Nilai rata-rata kolom awal sulfate tidak sama dengan nilai rata-rata kolom akhir sulfate $(\\mu_1 - \\mu_2 \\ne 0)$\n",
    "\n",
    "Tingkat signifikan $\\alpha = 0.05$\n",
    "\n",
    "Lakukan pengujian two tailed test karena akan dicek pada bagian kiri dengan $z < -z_{\\alpha/2}$ serta bagian kanan dengan $z > z_{\\alpha/2}$  \n",
    "\n",
    "Hitung nilai z:\n",
    "$$ z = \\frac{(\\bar{x_1} - \\bar{x_2}) - (\\mu_1 - \\mu_2)}{\\sqrt{{\\sigma_1^2/n_1} + {\\sigma_2^2/n_2}}} $$\n",
    "\n",
    "Tolak $H_0$ jika $(z > z_{\\alpha/2}$ atau $z < -z_{\\alpha/2})$ dan $p < \\alpha$  \n",
    "Terima $H_0$ jika $-z_{\\alpha/2} \\le z \\le z_{\\alpha/2}$ dan $p \\ge \\alpha$"
   ]
  },
  {
   "cell_type": "code",
   "execution_count": 3,
   "metadata": {},
   "outputs": [
    {
     "name": "stdout",
     "output_type": "stream",
     "text": [
      "Nilai z: -2.0753\n",
      "Nilai z_alpha/2: 1.96\n",
      "Nilai p: 0.038\n"
     ]
    },
    {
     "data": {
      "image/png": "[encoded data removed]",
      "text/plain": [
       "<Figure size 864x432 with 2 Axes>"
      ]
     },
     "metadata": {
      "needs_background": "light"
     },
     "output_type": "display_data"
    }
   ],
   "source": [
    "delta = 0 \n",
    "alpha = 0.05\n",
    "\n",
    "#calculate z and p using ztest module from beginning and end\n",
    "len_data_per_2 = len(df) // 2\n",
    "df_beg = df[\"Sulfate\"][:len_data_per_2]\n",
    "df_end = df[\"Sulfate\"][len_data_per_2:]\n",
    "z, p = ztest(df_beg, df_end, value=delta)\n",
    "\n",
    "#calculate z_alpha/2\n",
    "z_a = st.norm.ppf(1-alpha/2)\n",
    "\n",
    "print(f\"Nilai z: {round(z, 4)}\")\n",
    "print(f\"Nilai z_alpha/2: {round(z_a, 4)}\")\n",
    "print(f\"Nilai p: {round(p, 4)}\")\n",
    "plt.subplot(1,2,1)\n",
    "df_beg.plot(kind=\"box\", figsize=(12,6))\n",
    "plt.title=(\"Sulfate lower\")\n",
    "plt.subplot(1,2,2)\n",
    "df_end.plot(kind=\"box\", figsize=(12,6))\n",
    "plt.title=(\"Sulfate upper\")\n",
    "plt.show()\n",
    "\n"
   ]
  },
  {
   "cell_type": "markdown",
   "metadata": {},
   "source": [
    "Nilai $z$ lebih kecil dibandingkan $-z_{\\alpha/2}$ $(-2.0753 < 1.96)$  \n",
    "Nilai $p$ lebih kecil dibandingkan $\\alpha$  $(0.038 < 0.05)$  \n",
    "Maka tolak $H_0$\n",
    "\n",
    "**Kesimpulan: rata-rata bagian awal dan akhir kolom sulfat ialah tidak sama**"
   ]
  },
  {
   "cell_type": "markdown",
   "metadata": {},
   "source": [
    "#### b) Data kolom OrganicCarbon dibagi sama rata: bagian awal dan bagian akhir kolom. Benarkah rata-rata bagian awal lebih besar daripada bagian akhir sebesar 0.15?"
   ]
  },
  {
   "cell_type": "markdown",
   "metadata": {},
   "source": [
    "$H_0$: Nilai rata-rata kolom awal organic carbon sama dengan  kolom akhir organic carbon sebesar ditambah 0.15 $(\\mu_1 - \\mu_2 = 0.15)$\n",
    "\n",
    "$H_1$: Nilai rata-rata kolom awal organic carbon tidak sama dengan nilai rata-rata kolom akhir organic carbon ditambah sebesar 0.15 $(\\mu_1 - \\mu_2 \\ne 0.15)$\n",
    "\n",
    "Tingkat signifikan $\\alpha = 0.05$\n",
    "\n",
    "Lakukan pengujian two tailed test karena akan dicek pada bagian kiri dengan $z < -z_{\\alpha/2}$ serta bagian kanan dengan $z > z_{\\alpha/2}$  \n",
    "\n",
    "Hitung nilai z:\n",
    "$$ z = \\frac{(\\bar{x_1} - \\bar{x_2}) - (\\mu_1 - \\mu_2)}{\\sqrt{{\\sigma_1^2/n_1} + {\\sigma_2^2/n_2}}} $$\n",
    "\n",
    "Tolak $H_0$ jika $(z > z_{\\alpha/2}$ atau $z < -z_{\\alpha/2})$ dan $p < \\alpha$  \n",
    "Terima $H_0$ jika $-z_{\\alpha/2} \\le z \\le z_{\\alpha/2}$ dan $p \\ge \\alpha$"
   ]
  },
  {
   "cell_type": "code",
   "execution_count": 4,
   "metadata": {},
   "outputs": [
    {
     "name": "stdout",
     "output_type": "stream",
     "text": [
      "Nilai z: -2.4131\n",
      "Nilai z_alpha/2: 1.96\n",
      "Nilai p: 0.0158\n"
     ]
    },
    {
     "data": {
      "image/png": "[encoded data removed]",
      "text/plain": [
       "<Figure size 864x432 with 2 Axes>"
      ]
     },
     "metadata": {
      "needs_background": "light"
     },
     "output_type": "display_data"
    }
   ],
   "source": [
    "delta = 0.15\n",
    "alpha = 0.05\n",
    "\n",
    "#calculate z and p using ztest module from beginning and end\n",
    "len_data_per_2 = len(df) // 2\n",
    "df_beg = df[\"OrganicCarbon\"][:len_data_per_2]\n",
    "df_end = df[\"OrganicCarbon\"][len_data_per_2 :]\n",
    "z, p = ztest(df_beg, df_end, value=delta)\n",
    "\n",
    "#calculate z_alpha/2\n",
    "z_a = st.norm.ppf(1-alpha/2)\n",
    "\n",
    "print(f\"Nilai z: {round(z, 4)}\")\n",
    "print(f\"Nilai z_alpha/2: {round(z_a, 4)}\")\n",
    "print(f\"Nilai p: {round(p, 4)}\")\n",
    "plt.subplot(1, 2, 1)\n",
    "df_beg.plot(kind=\"box\", figsize=(12, 6))\n",
    "plt.subplot(1, 2, 2)\n",
    "df_end.plot(kind=\"box\", figsize=(12, 6))\n",
    "plt.show()\n"
   ]
  },
  {
   "cell_type": "markdown",
   "metadata": {},
   "source": [
    "Nilai $z$ lebih kecil dibandingkan $-z_{\\alpha/2}$ $(-2.4131 < 1.96)$  \n",
    "Nilai $p$ lebih kecil dibandingkan $\\alpha$  $(0.0158 < 0.05)$  \n",
    "Maka tolak $H_0$\n",
    "\n",
    "**Kesimpulan: bagian awal dan bagian akhir kolom organic carbon memiliki rata - rata bagian awal lebih besar daripada bagian akhir sebesar 0.15**"
   ]
  },
  {
   "cell_type": "markdown",
   "metadata": {},
   "source": [
    "#### c) Rata-rata 100 baris pertama kolom Chloramines sama dengan 100 baris terakhirnya?"
   ]
  },
  {
   "cell_type": "markdown",
   "metadata": {},
   "source": [
    "$H_0$: Nilai rata-rata 100 baris pertama kolom Chloramines sama dengan rata-rata 100 baris kolom akhir Chloramines $(\\mu_1 - \\mu_2 = 0)$\n",
    "\n",
    "$H_1$: Nilai rata-rata 100 baris pertama kolom Chloramines tidak sama dengan rata-rata 100 baris kolom akhir Chloramines $(\\mu_1 - \\mu_2 \\ne 0)$\n",
    "\n",
    "Tingkat signifikan $\\alpha = 0.05$\n",
    "\n",
    "Lakukan pengujian two tailed test karena akan dicek pada bagian kiri dengan $z < -z_{\\alpha/2}$ serta bagian kanan dengan $z > z_{\\alpha/2}$  \n",
    "\n",
    "Hitung nilai z:\n",
    "$$ z = \\frac{(\\bar{x_1} - \\bar{x_2}) - (\\mu_1 - \\mu_2)}{\\sqrt{{\\sigma_1^2/n_1} + {\\sigma_2^2/n_2}}} $$\n",
    "\n",
    "Tolak $H_0$ jika $(z > z_{\\alpha/2}$ atau $z < -z_{\\alpha/2})$ dan $p < \\alpha$  \n",
    "Terima $H_0$ jika $-z_{\\alpha/2} \\le z \\le z_{\\alpha/2}$ dan $p \\ge \\alpha$"
   ]
  },
  {
   "cell_type": "code",
   "execution_count": 5,
   "metadata": {},
   "outputs": [
    {
     "name": "stdout",
     "output_type": "stream",
     "text": [
      "Nilai z: -0.7059\n",
      "Nilai z_alpha/2: 1.96\n",
      "Nilai p: 0.4802\n"
     ]
    },
    {
     "data": {
      "image/png": "[encoded data removed]",
      "text/plain": [
       "<Figure size 864x432 with 2 Axes>"
      ]
     },
     "metadata": {
      "needs_background": "light"
     },
     "output_type": "display_data"
    }
   ],
   "source": [
    "\n",
    "delta = 0\n",
    "alpha = 0.05\n",
    "\n",
    "#calculate z and p using ztest module from beginning and end\n",
    "df_beg = df[\"Chloramines\"].head(100)\n",
    "df_end = df[\"Chloramines\"].tail(100)\n",
    "z, p = ztest(df_beg,df_end, value=delta)\n",
    "\n",
    "#calculate z_alpha/2\n",
    "z_a = st.norm.ppf(1-alpha/2)\n",
    "\n",
    "print(f\"Nilai z: {round(z, 4)}\")\n",
    "print(f\"Nilai z_alpha/2: {round(z_a, 4)}\")\n",
    "print(f\"Nilai p: {round(p, 4)}\")\n",
    "plt.subplot(1, 2, 1)\n",
    "df_beg.plot(kind=\"box\", figsize=(12, 6))\n",
    "plt.subplot(1, 2, 2)\n",
    "df_end.plot(kind=\"box\", figsize=(12, 6))\n",
    "plt.show()"
   ]
  },
  {
   "cell_type": "markdown",
   "metadata": {},
   "source": [
    "Nilai $z$ berada di rentang dibandingkan $-z_{\\alpha/2} \\le z \\le z_{\\alpha/2}$ $(-1.96 \\le -0.7059 \\le 1.96)$  \n",
    "Nilai $p$ lebih besar dibandingkan $\\alpha$  $(0.4802 > 0.05)$  \n",
    "Maka terima $H_0$\n",
    "\n",
    "**Kesimpulan: Rata-rata 100 baris pertama kolom Chloramines sama dengan 100 baris terakhirnya**"
   ]
  },
  {
   "cell_type": "markdown",
   "metadata": {},
   "source": [
    "#### d) Proporsi nilai bagian awal Turbidity yang lebih dari 4 adalah lebih besar daripada proporsi nilai yang sama pada di bagian akhir Turbidity?"
   ]
  },
  {
   "cell_type": "markdown",
   "metadata": {},
   "source": [
    "$H_0$: Proporsi nilai bagian awal Turbidity yang lebih dari 4 sama dengan proporsi nilai bagian akhir turbidity $(p_1 - p_2 = 0)$\n",
    "\n",
    "$H_1$: Proporsi nilai bagian awal Turbidity yang lebih dari 4 lebih dari proporsi nilai bagian akhir $(p_1 > p_2)$\n",
    "\n",
    "Tingkat signifikan $\\alpha = 0.05$\n",
    "\n",
    "Lakukan pengujian one tailed test karena akan dicek pada bagian kanan dengan $z > z_{\\alpha}$  \n",
    "\n",
    "Hitung nilai z:\n",
    "$$ z = \\frac{\\hat{p_1} - \\hat{p_2}}{\\sqrt{\\hat{p}\\hat{q}({1/n_1} + {1/n_2})}} $$\n",
    "\n",
    "dengan nilai $\\hat{p}$:\n",
    "$$ \\hat{p} = \\frac{x_1 + x_2}{n_1 + n_2}, \\hat{q} = 1 - \\hat{p}$$\n",
    "\n",
    "Tolak $H_0$ jika $z > z_{\\alpha}$ dan $p < \\alpha$  \n",
    "Terima $H_0$ jika $z \\le z_{\\alpha}$ dan $p \\ge \\alpha$"
   ]
  },
  {
   "cell_type": "code",
   "execution_count": 6,
   "metadata": {},
   "outputs": [
    {
     "name": "stdout",
     "output_type": "stream",
     "text": [
      "Nilai z: -0.1339\n",
      "Nilai z_alpha: 1.6449\n",
      "Nilai p: 0.8935\n"
     ]
    },
    {
     "data": {
      "image/png": "[encoded data removed]",
      "text/plain": [
       "<Figure size 864x432 with 2 Axes>"
      ]
     },
     "metadata": {
      "needs_background": "light"
     },
     "output_type": "display_data"
    }
   ],
   "source": [
    "\n",
    "delta = 0\n",
    "alpha = 0.05\n",
    "\n",
    "len_data_per_2 = len(df) // 2\n",
    "df_beg = df[:len_data_per_2]\n",
    "df_end = df[len_data_per_2:]\n",
    "\n",
    "#calculate z and p using ztest module from beginning and end\n",
    "z, p = proportions_ztest([len(df_beg[df_beg[\"Turbidity\"] > 4]), len(df_end[df_end[\"Turbidity\"] > 4])], [len(df_beg), len(df_end)], value=delta, prop_var=delta)\n",
    "\n",
    "#calculate z_alpha/2\n",
    "z_a = st.norm.ppf(1-alpha)\n",
    "\n",
    "print(f\"Nilai z: {round(z, 4)}\")\n",
    "print(f\"Nilai z_alpha: {round(z_a, 4)}\")\n",
    "print(f\"Nilai p: {round(p, 4)}\")\n",
    "plt.subplot(1, 2, 1)\n",
    "df_beg[\"Turbidity\"].plot(kind=\"box\", figsize=(12, 6))\n",
    "plt.subplot(1, 2, 2)\n",
    "df_end[\"Turbidity\"].plot(kind=\"box\", figsize=(12, 6))\n",
    "plt.show()\n"
   ]
  },
  {
   "cell_type": "markdown",
   "metadata": {},
   "source": [
    "Nilai $z$ kurang dari $z_{\\alpha}$ $(-0.1339 \\le 1.6449)$  \n",
    "Nilai $p$ lebih besar dibandingkan $\\alpha$  $(0.8935 > 0.05)$  \n",
    "Maka terima $H_0$\n",
    "\n",
    "**Kesimpulan: Proporsi nilai bagian awal Turbidity yang lebih dari 4 sama dengan proporsi nilai bagian akhir turbidity**"
   ]
  },
  {
   "cell_type": "markdown",
   "metadata": {},
   "source": [
    "#### e) Bagian awal kolom Sulfate memiliki variansi yang sama pada bagian akhirnya?"
   ]
  },
  {
   "cell_type": "markdown",
   "metadata": {},
   "source": [
    "$H_0$: Variansi bagian awal kolom Sulfate memiliki nilai yang sama dengan bagian akhir kolom Sulfate $(\\sigma_1^2 = \\sigma_2^2)$\n",
    "\n",
    "$H_1$: Variansi bagian awal kolom Sulfate memiliki nilai yang berbeda dengan bagian akhir kolom Sulfate $(\\sigma_1^2 \\ne \\sigma_2^2)$\n",
    "\n",
    "Tingkat signifikan $\\alpha = 0.05$\n",
    "\n",
    "Lakukan pengujian two tailed f test karena akan dicek pada bagian kanan dengan $f > f_{\\alpha/2}(v_1,v_2)$ dan bagian kiri pada $f < {f_{1-\\alpha/2}(v_1, v_2)}$\n",
    "\n",
    "Hitung nilai f:\n",
    "$$ f = \\frac{s_1^2}{s_2^2} $$\n",
    "\n",
    "dengan nilai $v_1$ dan $v_2$:\n",
    "$$ v_1 = n_1 - 1, v_2 = n_2 - 2$$\n",
    "\n",
    "Tolak $H_0$ jika $f > f_{\\alpha/2}(v_1,v_2)$ atau $f < {f_{1-\\alpha/2}(v_1, v_2)}$ dan $p < \\alpha$  \n",
    "Terima $H_0$ jika ${f_{1-\\alpha/2}(v_1, v_2) \\le f \\le f_{\\alpha/2}(v_1,v_2)}$  dan $p \\ge \\alpha$\n"
   ]
  },
  {
   "cell_type": "code",
   "execution_count": 7,
   "metadata": {},
   "outputs": [
    {
     "name": "stdout",
     "output_type": "stream",
     "text": [
      "Nilai f: 1.0153\n",
      "Nilai f_up: 1.1318\n",
      "Nilai f_down: 0.8836\n",
      "Nilai p: 0.4053\n"
     ]
    },
    {
     "data": {
      "image/png": "[encoded data removed]",
      "text/plain": [
       "<Figure size 864x432 with 2 Axes>"
      ]
     },
     "metadata": {
      "needs_background": "light"
     },
     "output_type": "display_data"
    }
   ],
   "source": [
    "alpha = 0.05\n",
    "len_data_per_2 = len(df) // 2\n",
    "df_beg = df[\"Sulfate\"][:len_data_per_2]\n",
    "df_end = df[\"Sulfate\"][len_data_per_2:]\n",
    "v1 = len(df_beg) - 1\n",
    "v2 = len(df_end) - 1\n",
    "\n",
    "#calculate f and p using scipy module from beginning and end\n",
    "f = df_beg.var() / df_end.var()\n",
    "f_up = st.f.ppf(1 - alpha/2, v1, v2)\n",
    "f_down = st.f.ppf(alpha/2, v1, v2)\n",
    "\n",
    "# p is the area from beginning to f\n",
    "p = 1 - st.f.cdf(f, v1, v2)\n",
    "\n",
    "print(f\"Nilai f: {round(f, 4)}\")\n",
    "print(f\"Nilai f_up: {round(f_up, 4)}\")\n",
    "print(f\"Nilai f_down: {round(f_down, 4)}\")\n",
    "print(f\"Nilai p: {round(p, 4)}\")\n",
    "plt.subplot(1, 2, 1)\n",
    "df_beg.plot(kind=\"box\", figsize=(12, 6))\n",
    "plt.subplot(1, 2, 2)\n",
    "df_end.plot(kind=\"box\", figsize=(12, 6))\n",
    "plt.show()\n"
   ]
  },
  {
   "cell_type": "markdown",
   "metadata": {},
   "source": [
    "Nilai $f$ berada pada range ${f_{1-\\alpha/2}(v_1, v_2) \\le f \\le f_{\\alpha/2}(v_1,v_2)}$ $(0.8836 < 1.0153 < 1.1318)$  \n",
    "Nilai $p$ lebih besar dibandingkan $\\alpha$  $(0.4053 > 0.05)$  \n",
    "Maka terima $H_0$\n",
    "\n",
    "**Kesimpulan: Variansi bagian awal kolom Sulfate memiliki nilai yang sama dengan bagian akhir kolom Sulfate**"
   ]
  }
 ],
 "metadata": {
  "interpreter": {
   "hash": "b5d60f89743eeca39aa0845c4994027250480cef9f28ddce065d1fe0a8ddd96c"
  },
  "kernelspec": {
   "display_name": "Python 3.8.8 64-bit ('base': conda)",
   "name": "python3"
  },
  "language_info": {
   "codemirror_mode": {
    "name": "ipython",
    "version": 3
   },
   "file_extension": ".py",
   "mimetype": "text/x-python",
   "name": "python",
   "nbconvert_exporter": "python",
   "pygments_lexer": "ipython3",
   "version": "3.8.8"
  },
  "orig_nbformat": 4
 },
 "nbformat": 4,
 "nbformat_minor": 2
}
