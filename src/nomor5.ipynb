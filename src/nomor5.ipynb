{
 "cells": [
  {
   "cell_type": "markdown",
   "metadata": {},
   "source": [
    "### NO 5\n",
    "Melakukan test hipotesis 2 sampel"
   ]
  },
  {
   "cell_type": "code",
   "execution_count": 3,
   "metadata": {},
   "outputs": [],
   "source": [
    "import scipy.stats as st\n",
    "import pandas as pd\n",
    "import matplotlib.pyplot as plt\n",
    "from statsmodels.stats.weightstats import ztest\n",
    "from statsmodels.stats.proportion import proportions_ztest\n"
   ]
  },
  {
   "cell_type": "code",
   "execution_count": 4,
   "metadata": {},
   "outputs": [],
   "source": [
    "col_names = ['id', 'pH', 'Hardness', 'Solids', 'Chloramines', 'Sulfate',\n",
    "             'Conductivity', 'OrganicCarbon', 'Trihalomethanes', 'Turbidity', 'Potability']\n",
    "df = pd.read_csv('../data/water_potability.csv', names=col_names)\n"
   ]
  },
  {
   "cell_type": "markdown",
   "metadata": {},
   "source": [
    "#### a) Data kolom Sulfate dibagi 2 sama rata: bagian awal dan bagian akhir kolom. Benarkah rata-rata kedua bagian tersebut sama?"
   ]
  },
  {
   "cell_type": "markdown",
   "metadata": {},
   "source": [
    "$H_0$: Nilai rata-rata kolom awal sulfate sama dengan nilai rata-rata kolom akhir sulfate $(\\mu_1 - \\mu_2 = 0)$\n",
    "\n",
    "$H_1$: Nilai rata-rata kolom awal sulfate tidak sama dengan nilai rata-rata kolom akhir sulfate $(\\mu_1 - \\mu_2 \\ne 0)$\n",
    "\n",
    "Tingkat signifikan $\\alpha = 0.05$\n",
    "\n",
    "Lakukan pengujian two tailed test karena akan dicek pada bagian kiri dengan $z < -z_{\\alpha/2}$ serta bagian kanan dengan $z > z_{\\alpha/2}$  \n",
    "\n",
    "Hitung nilai z:\n",
    "$$ z = \\frac{(\\bar{x_1} - \\bar{x_2}) - (\\mu_1 - \\mu_2)}{\\sqrt{{\\sigma_1^2/n_1} + {\\sigma_2^2/n_2}}} $$\n",
    "\n",
    "Tolak $H_0$ jika $z > z_{\\alpha/2}$ atau $z < -z_{\\alpha/2}$ dan $p < \\alpha$  \n",
    "Terima $H_0$ jika $-z_{\\alpha/2} \\le z \\le z_{\\alpha/2}$ dan $p \\ge \\alpha$"
   ]
  },
  {
   "cell_type": "code",
   "execution_count": 10,
   "metadata": {},
   "outputs": [
    {
     "name": "stdout",
     "output_type": "stream",
     "text": [
      "Nilai z: -2.0753\n",
      "Nilai z_alpha/2: 1.96\n",
      "Nilai p: 0.038\n"
     ]
    }
   ],
   "source": [
    "delta = 0 \n",
    "alpha = 0.05\n",
    "\n",
    "#calculate z and p using ztest module from beginning and end\n",
    "len_data_per_2 = len(df) // 2\n",
    "z, p = ztest(df[\"Sulfate\"][:len_data_per_2], df[\"Sulfate\"][len_data_per_2:], value=delta)\n",
    "\n",
    "#calculate z_alpha/2\n",
    "z_a = st.norm.ppf(1-alpha/2)\n",
    "\n",
    "print(f\"Nilai z: {round(z, 4)}\")\n",
    "print(f\"Nilai z_alpha/2: {round(z_a, 4)}\")\n",
    "print(f\"Nilai p: {round(p, 4)}\")\n"
   ]
  },
  {
   "cell_type": "markdown",
   "metadata": {},
   "source": [
    "Nilai $z$ lebih kecil dibandingkan $-z_{\\alpha/2}$ $(-2.0753 < 1.96)$  \n",
    "Nilai $p$ lebih kecil dibandingkan $\\alpha$  $(0.038 < 0.05)$  \n",
    "Maka tolak $H_0$\n",
    "\n",
    "**Kesimpulan: rata-rata bagian awal dan akhir kolom sulfat ialah tidak sama**"
   ]
  },
  {
   "cell_type": "markdown",
   "metadata": {},
   "source": [
    "#### b) Data kolom OrganicCarbon dibagi sama rata: bagian awal dan bagian akhir kolom. Benarkah rata-rata bagian awal lebih besar daripada bagian akhir sebesar 0.15?"
   ]
  },
  {
   "cell_type": "markdown",
   "metadata": {},
   "source": [
    "$H_0$: Nilai rata-rata kolom awal organic carbon dikurang rata-rata kolom akhir organic carbon $(\\mu_1 - \\mu_2 = 0.15)$\n",
    "\n",
    "$H_1$: Nilai rata-rata kolom awal organic carbon lebih dari nilai rata-rata kolom akhir organic carbon sebesar 0.15 $(\\mu_1 - \\mu_2 \\ne 0.15)$\n",
    "\n",
    "Tingkat signifikan $\\alpha = 0.05$\n",
    "\n",
    "Lakukan pengujian two tailed test karena akan dicek pada bagian kiri dengan $z < -z_{\\alpha/2}$ serta bagian kanan dengan $z > z_{\\alpha/2}$  \n",
    "\n",
    "Hitung nilai z:\n",
    "$$ z = \\frac{(\\bar{x_1} - \\bar{x_2}) - (\\mu_1 - \\mu_2)}{\\sqrt{{\\sigma_1^2/n_1} + {\\sigma_2^2/n_2}}} $$\n",
    "\n",
    "Tolak $H_0$ jika $z > z_{\\alpha/2}$ atau $z < -z_{\\alpha/2}$ dan $p < \\alpha$  \n",
    "Terima $H_0$ jika $-z_{\\alpha/2} \\le z \\le z_{\\alpha/2}$ dan $p \\ge \\alpha$"
   ]
  },
  {
   "cell_type": "code",
   "execution_count": 13,
   "metadata": {},
   "outputs": [
    {
     "name": "stdout",
     "output_type": "stream",
     "text": [
      "Nilai z: -2.4131\n",
      "Nilai z_alpha/2: 1.96\n",
      "Nilai p: 0.0158\n"
     ]
    }
   ],
   "source": [
    "delta = 0.15\n",
    "alpha = 0.05\n",
    "\n",
    "#calculate z and p using ztest module from beginning and end\n",
    "len_data_per_2 = len(df) // 2\n",
    "z, p = ztest(df[\"OrganicCarbon\"][:len_data_per_2],\n",
    "             df[\"OrganicCarbon\"][len_data_per_2:], value=delta)\n",
    "\n",
    "#calculate z_alpha/2\n",
    "z_a = st.norm.ppf(1-alpha/2)\n",
    "\n",
    "print(f\"Nilai z: {round(z, 4)}\")\n",
    "print(f\"Nilai z_alpha/2: {round(z_a, 4)}\")\n",
    "print(f\"Nilai p: {round(p, 4)}\")\n"
   ]
  },
  {
   "cell_type": "markdown",
   "metadata": {},
   "source": [
    "Nilai $z$ lebih kecil dibandingkan $-z_{\\alpha/2}$ $(-2.4131 < 1.96)$  \n",
    "Nilai $p$ lebih kecil dibandingkan $\\alpha$  $(0.0158 < 0.05)$  \n",
    "Maka tolak $H_0$\n",
    "\n",
    "**Kesimpulan: bagian awal dan bagian akhir kolom organic carbon memiliki rata - rata bagian awal lebih besar daripada bagian akhir sebesar 0.15**"
   ]
  },
  {
   "cell_type": "markdown",
   "metadata": {},
   "source": [
    "#### c) Rata-rata 100 baris pertama kolom Chloramines sama dengan 100 baris terakhirnya?"
   ]
  },
  {
   "cell_type": "markdown",
   "metadata": {},
   "source": [
    "$H_0$: Nilai rata-rata 100 baris pertama kolom Chloramines sama dengan rata-rata 100 baris kolom akhir Chloramines $(\\mu_1 - \\mu_2 = 0)$\n",
    "\n",
    "$H_1$: Nilai rata-rata kolom awal Chloramines lebih tidak sama dengan rata-rata 100 baris kolom akhir Chloramines $(\\mu_1 - \\mu_2 \\ne 0)$\n",
    "\n",
    "Tingkat signifikan $\\alpha = 0.05$\n",
    "\n",
    "Lakukan pengujian two tailed test karena akan dicek pada bagian kiri dengan $z < -z_{\\alpha/2}$ serta bagian kanan dengan $z > z_{\\alpha/2}$  \n",
    "\n",
    "Hitung nilai z:\n",
    "$$ z = \\frac{(\\bar{x_1} - \\bar{x_2}) - (\\mu_1 - \\mu_2)}{\\sqrt{{\\sigma_1^2/n_1} + {\\sigma_2^2/n_2}}} $$\n",
    "\n",
    "Tolak $H_0$ jika $z > z_{\\alpha/2}$ atau $z < -z_{\\alpha/2}$ dan $p < \\alpha$  \n",
    "Terima $H_0$ jika $-z_{\\alpha/2} \\le z \\le z_{\\alpha/2}$ dan $p \\ge \\alpha$"
   ]
  },
  {
   "cell_type": "code",
   "execution_count": 17,
   "metadata": {},
   "outputs": [
    {
     "name": "stdout",
     "output_type": "stream",
     "text": [
      "Nilai z: -0.7059\n",
      "Nilai z_alpha/2: 1.96\n",
      "Nilai p: 0.4802\n"
     ]
    }
   ],
   "source": [
    "delta = 0\n",
    "alpha = 0.05\n",
    "\n",
    "#calculate z and p using ztest module from beginning and end\n",
    "z, p = ztest(df[\"Chloramines\"].head(100),\n",
    "             df[\"Chloramines\"].tail(100), value=delta)\n",
    "\n",
    "#calculate z_alpha/2\n",
    "z_a = st.norm.ppf(1-alpha/2)\n",
    "\n",
    "print(f\"Nilai z: {round(z, 4)}\")\n",
    "print(f\"Nilai z_alpha/2: {round(z_a, 4)}\")\n",
    "print(f\"Nilai p: {round(p, 4)}\")\n"
   ]
  },
  {
   "cell_type": "markdown",
   "metadata": {},
   "source": [
    "Nilai $z$ berada di rentang dibandingkan $-z_{\\alpha/2} \\le z \\le z_{\\alpha/2}$ $(-1.96 \\le -0.7059 \\le 1.96)$  \n",
    "Nilai $p$ lebih besar dibandingkan $\\alpha$  $(0.4802 > 0.05)$  \n",
    "Maka terima $H_0$\n",
    "\n",
    "**Kesimpulan: Rata-rata 100 baris pertama kolom Chloramines sama dengan 100 baris terakhirnya**"
   ]
  },
  {
   "cell_type": "markdown",
   "metadata": {},
   "source": [
    "#### d) Proporsi nilai bagian awal Turbidity yang lebih dari 4 adalah lebih besar daripada proporsi nilai yang sama pada di bagian akhir Turbidity?"
   ]
  },
  {
   "cell_type": "markdown",
   "metadata": {},
   "source": [
    "$H_0$: Proporsi nilai bagian awal Turbidity yang lebih dari 4 sama dengan proporsi nilai bagian akhir turbidity $(p_1 - p_2 = 0)$\n",
    "\n",
    "$H_1$: Proporsi nilai bagian awal Turbidity yang lebih dari 4 lebih dari proporsi nilai bagian akhir $(p_1 - p_2 > 0)$\n",
    "\n",
    "Tingkat signifikan $\\alpha = 0.05$\n",
    "\n",
    "Lakukan pengujian one tailed test karena akan dicek pada bagian kanan dengan $z > z_{\\alpha}$  \n",
    "\n",
    "Hitung nilai z:\n",
    "$$ z = \\frac{\\hat{p_1} - \\hat{p_2}}{\\sqrt{\\hat{p}\\hat{q}({1/n_1} + {1/n_2})}} $$\n",
    "\n",
    "dengan nilai $\\hat{p}$:\n",
    "$$ \\hat{p} = \\frac{x_1 + x_2}{n_1 + n_2}, \\hat{q} = 1 - \\hat{p}$$\n",
    "\n",
    "Tolak $H_0$ jika $z > z_{\\alpha}$ dan $p < \\alpha$  \n",
    "Terima $H_0$ jika $z \\le z_{\\alpha}$ dan $p \\ge \\alpha$"
   ]
  },
  {
   "cell_type": "code",
   "execution_count": 29,
   "metadata": {},
   "outputs": [
    {
     "name": "stdout",
     "output_type": "stream",
     "text": [
      "Nilai z: -0.1339\n",
      "Nilai z_alpha: 1.6449\n",
      "Nilai p: 0.8935\n"
     ]
    }
   ],
   "source": [
    "delta = 0\n",
    "alpha = 0.05\n",
    "\n",
    "len_data_per_2 = len(df) // 2\n",
    "df_beg = df[:len_data_per_2]\n",
    "df_end = df[len_data_per_2:]\n",
    "\n",
    "#calculate z and p using ztest module from beginning and end\n",
    "z, p = proportions_ztest([len(df_beg[df_beg[\"Turbidity\"] > 4]), len(df_end[df_end[\"Turbidity\"] > 4])], [len(df_beg), len(df_end)], value=delta, prop_var=delta)\n",
    "\n",
    "#calculate z_alpha/2\n",
    "z_a = st.norm.ppf(1-alpha)\n",
    "\n",
    "print(f\"Nilai z: {round(z, 4)}\")\n",
    "print(f\"Nilai z_alpha: {round(z_a, 4)}\")\n",
    "print(f\"Nilai p: {round(p, 4)}\")"
   ]
  },
  {
   "cell_type": "markdown",
   "metadata": {},
   "source": [
    "Nilai $z$ kurang dari $z_{\\alpha}$ $(-0.1339 \\le 1.6449)$  \n",
    "Nilai $p$ lebih besar dibandingkan $\\alpha$  $(0.8935 > 0.05)$  \n",
    "Maka terima $H_0$\n",
    "\n",
    "**Kesimpulan: Proporsi nilai bagian awal Turbidity yang lebih dari 4 sama dengan proporsi nilai bagian akhir turbidity**"
   ]
  },
  {
   "cell_type": "markdown",
   "metadata": {},
   "source": [
    "#### e) Bagian awal kolom Sulfate memiliki variansi yang sama pada bagian akhirnya?"
   ]
  },
  {
   "cell_type": "markdown",
   "metadata": {},
   "source": [
    "$H_0$: Variansi bagian awal kolom Sulfate memiliki nilai yang sama dengan bagian akhir kolom Sulfate $(\\sigma_1^2 = \\sigma_2^2)$\n",
    "\n",
    "$H_1$: Variansi bagian awal kolom Sulfate memiliki nilai yang berbeda dengan bagian akhir kolom Sulfate $(\\sigma_1^2 \\ne \\sigma_2^2)$\n",
    "\n",
    "Tingkat signifikan $\\alpha = 0.05$\n",
    "\n",
    "Lakukan pengujian two tailed f test karena akan dicek pada bagian kanan dengan $f > f_{\\alpha/2}(v_1,v_2)$ dan bagian kiri pada $f < {f_{1-\\alpha/2}(v_1, v_2)}$\n",
    "\n",
    "Hitung nilai f:\n",
    "$$ f = \\frac{s_1^2}{s_2^2} $$\n",
    "\n",
    "dengan nilai $v_1$ dan $v_2$:\n",
    "$$ v_1 = n_1 - 1, v_2 = n_2 - 2$$\n",
    "\n",
    "Tolak $H_0$ jika $f > f_{\\alpha/2}(v_1,v_2)$ atau $f < {f_{1-\\alpha/2}(v_1, v_2)}$ dan $p < \\alpha$  \n",
    "Terima $H_0$ jika ${f_{1-\\alpha/2}(v_1, v_2) \\le f \\le f_{\\alpha/2}(v_1,v_2)}$  dan $p \\ge \\alpha$\n"
   ]
  },
  {
   "cell_type": "code",
   "execution_count": 39,
   "metadata": {},
   "outputs": [
    {
     "name": "stdout",
     "output_type": "stream",
     "text": [
      "Nilai f: 1.0153\n",
      "Nilai f_up: 1.1318\n",
      "Nilai f_down: 0.8836\n",
      "Nilai p: 0.4053\n"
     ]
    }
   ],
   "source": [
    "alpha = 0.05\n",
    "len_data_per_2 = len(df) // 2\n",
    "df_beg = df[:len_data_per_2]\n",
    "df_end = df[len_data_per_2:]\n",
    "v1 = len(df_beg) - 1\n",
    "v2 = len(df_end) - 1\n",
    "\n",
    "#calculate f and p using scipy module from beginning and end\n",
    "f = df_beg[\"Sulfate\"].var() / df_end[\"Sulfate\"].var()\n",
    "f_up = st.f.ppf(1 - alpha/2, v1, v2)\n",
    "f_down = st.f.ppf(alpha/2, v1, v2)\n",
    "\n",
    "# p is the area from beginning to f\n",
    "p = 1 - st.f.cdf(f, v1, v2)\n",
    "\n",
    "print(f\"Nilai f: {round(f, 4)}\")\n",
    "print(f\"Nilai f_up: {round(f_up, 4)}\")\n",
    "print(f\"Nilai f_down: {round(f_down, 4)}\")\n",
    "print(f\"Nilai p: {round(p, 4)}\")\n"
   ]
  },
  {
   "cell_type": "markdown",
   "metadata": {},
   "source": [
    "Nilai $f$ berada pada range ${f_{1-\\alpha/2}(v_1, v_2) \\le f \\le f_{\\alpha/2}(v_1,v_2)}$ $(0.8836 < 1.0153 < 1.1318)$  \n",
    "Nilai $p$ lebih besar dibandingkan $\\alpha$  $(0.4053 > 0.05)$  \n",
    "Maka terima $H_0$\n",
    "\n",
    "**Kesimpulan: Variansi bagian awal kolom Sulfate memiliki nilai yang sama dengan bagian akhir kolom Sulfate**"
   ]
  }
 ],
 "metadata": {
  "interpreter": {
   "hash": "e922dd073470bdcc017ae3abd31d6491d6ed7bf31c1d559806e5511bfea88b81"
  },
  "kernelspec": {
   "display_name": "Python 3.8.2 64-bit",
   "language": "python",
   "name": "python3"
  },
  "language_info": {
   "codemirror_mode": {
    "name": "ipython",
    "version": 3
   },
   "file_extension": ".py",
   "mimetype": "text/x-python",
   "name": "python",
   "nbconvert_exporter": "python",
   "pygments_lexer": "ipython3",
   "version": "3.8.2"
  },
  "orig_nbformat": 4
 },
 "nbformat": 4,
 "nbformat_minor": 2
}
