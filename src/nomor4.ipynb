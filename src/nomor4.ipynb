{
 "cells": [
  {
   "cell_type": "markdown",
   "metadata": {},
   "source": [
    "### NO 4\n",
    "\n",
    "Melakukan test hipotesis 1 sampel"
   ]
  },
  {
   "cell_type": "code",
   "execution_count": 1,
   "metadata": {},
   "outputs": [],
   "source": [
    "import scipy.stats as st\n",
    "import pandas as pd\n",
    "import matplotlib.pyplot as plt\n",
    "from statsmodels.stats.weightstats import ztest\n",
    "from statsmodels.stats.proportion import proportions_ztest\n"
   ]
  },
  {
   "cell_type": "code",
   "execution_count": 2,
   "metadata": {},
   "outputs": [],
   "source": [
    "col_names = ['id', 'pH', 'Hardness', 'Solids', 'Chloramines', 'Sulfate',\n",
    "             'Conductivity', 'OrganicCarbon', 'Trihalomethanes', 'Turbidity', 'Potability']\n",
    "df = pd.read_csv('../data/water_potability.csv', names=col_names)"
   ]
  },
  {
   "cell_type": "code",
   "execution_count": 3,
   "metadata": {},
   "outputs": [
    {
     "data": {
      "text/html": [
       "<div>\n",
       "<style scoped>\n",
       "    .dataframe tbody tr th:only-of-type {\n",
       "        vertical-align: middle;\n",
       "    }\n",
       "\n",
       "    .dataframe tbody tr th {\n",
       "        vertical-align: top;\n",
       "    }\n",
       "\n",
       "    .dataframe thead th {\n",
       "        text-align: right;\n",
       "    }\n",
       "</style>\n",
       "<table border=\"1\" class=\"dataframe\">\n",
       "  <thead>\n",
       "    <tr style=\"text-align: right;\">\n",
       "      <th></th>\n",
       "      <th>id</th>\n",
       "      <th>pH</th>\n",
       "      <th>Hardness</th>\n",
       "      <th>Solids</th>\n",
       "      <th>Chloramines</th>\n",
       "      <th>Sulfate</th>\n",
       "      <th>Conductivity</th>\n",
       "      <th>OrganicCarbon</th>\n",
       "      <th>Trihalomethanes</th>\n",
       "      <th>Turbidity</th>\n",
       "      <th>Potability</th>\n",
       "    </tr>\n",
       "  </thead>\n",
       "  <tbody>\n",
       "    <tr>\n",
       "      <th>0</th>\n",
       "      <td>1</td>\n",
       "      <td>8.316766</td>\n",
       "      <td>214.373394</td>\n",
       "      <td>22018.417441</td>\n",
       "      <td>8.059332</td>\n",
       "      <td>356.886136</td>\n",
       "      <td>363.266516</td>\n",
       "      <td>18.436524</td>\n",
       "      <td>100.341674</td>\n",
       "      <td>4.628771</td>\n",
       "      <td>0</td>\n",
       "    </tr>\n",
       "    <tr>\n",
       "      <th>1</th>\n",
       "      <td>2</td>\n",
       "      <td>9.092223</td>\n",
       "      <td>181.101509</td>\n",
       "      <td>17978.986339</td>\n",
       "      <td>6.546600</td>\n",
       "      <td>310.135738</td>\n",
       "      <td>398.410813</td>\n",
       "      <td>11.558279</td>\n",
       "      <td>31.997993</td>\n",
       "      <td>4.075075</td>\n",
       "      <td>0</td>\n",
       "    </tr>\n",
       "    <tr>\n",
       "      <th>2</th>\n",
       "      <td>3</td>\n",
       "      <td>5.584087</td>\n",
       "      <td>188.313324</td>\n",
       "      <td>28748.687739</td>\n",
       "      <td>7.544869</td>\n",
       "      <td>326.678363</td>\n",
       "      <td>280.467916</td>\n",
       "      <td>8.399735</td>\n",
       "      <td>54.917862</td>\n",
       "      <td>2.559708</td>\n",
       "      <td>0</td>\n",
       "    </tr>\n",
       "    <tr>\n",
       "      <th>3</th>\n",
       "      <td>4</td>\n",
       "      <td>10.223862</td>\n",
       "      <td>248.071735</td>\n",
       "      <td>28749.716544</td>\n",
       "      <td>7.513408</td>\n",
       "      <td>393.663396</td>\n",
       "      <td>283.651634</td>\n",
       "      <td>13.789695</td>\n",
       "      <td>84.603556</td>\n",
       "      <td>2.672989</td>\n",
       "      <td>0</td>\n",
       "    </tr>\n",
       "    <tr>\n",
       "      <th>4</th>\n",
       "      <td>5</td>\n",
       "      <td>8.635849</td>\n",
       "      <td>203.361523</td>\n",
       "      <td>13672.091764</td>\n",
       "      <td>4.563009</td>\n",
       "      <td>303.309771</td>\n",
       "      <td>474.607645</td>\n",
       "      <td>12.363817</td>\n",
       "      <td>62.798309</td>\n",
       "      <td>4.401425</td>\n",
       "      <td>0</td>\n",
       "    </tr>\n",
       "  </tbody>\n",
       "</table>\n",
       "</div>"
      ],
      "text/plain": [
       "   id         pH    Hardness        Solids  Chloramines     Sulfate  \\\n",
       "0   1   8.316766  214.373394  22018.417441     8.059332  356.886136   \n",
       "1   2   9.092223  181.101509  17978.986339     6.546600  310.135738   \n",
       "2   3   5.584087  188.313324  28748.687739     7.544869  326.678363   \n",
       "3   4  10.223862  248.071735  28749.716544     7.513408  393.663396   \n",
       "4   5   8.635849  203.361523  13672.091764     4.563009  303.309771   \n",
       "\n",
       "   Conductivity  OrganicCarbon  Trihalomethanes  Turbidity  Potability  \n",
       "0    363.266516      18.436524       100.341674   4.628771           0  \n",
       "1    398.410813      11.558279        31.997993   4.075075           0  \n",
       "2    280.467916       8.399735        54.917862   2.559708           0  \n",
       "3    283.651634      13.789695        84.603556   2.672989           0  \n",
       "4    474.607645      12.363817        62.798309   4.401425           0  "
      ]
     },
     "execution_count": 3,
     "metadata": {},
     "output_type": "execute_result"
    }
   ],
   "source": [
    "df.head()"
   ]
  },
  {
   "cell_type": "markdown",
   "metadata": {},
   "source": [
    "#### a) Nilai rata - rata pH di atas 7?"
   ]
  },
  {
   "cell_type": "markdown",
   "metadata": {},
   "source": [
    "$H_0$: Nilai rata rata pH sama dengan $7$ ($\\mu = 7$)  \n",
    "$H_1$: Nilai rata rata pH lebih dari $7$ ($\\mu > 7$)\n",
    "\n",
    "Tingkat Signifikan $\\alpha = 0.05$\n",
    "\n",
    "Lakukan uji statistik dengan one tailed test ke arah kanan (right tailed test) karena $\\mu > 7$. Ambil critical section $z > z_\\alpha$\n",
    "\n",
    "Hitung nilai z dengan rumus\n",
    "\n",
    "$$ z = \\frac{\\bar{x} - \\mu_0}{\\sigma/\\sqrt{n}} $$\n",
    "\n",
    "Tolak $H_0$ jika $z > z_\\alpha$ dan $p < \\alpha$  \n",
    "Terima $H_0$ jika $z \\le z_\\alpha$ dan $p \\ge \\alpha$"
   ]
  },
  {
   "cell_type": "code",
   "execution_count": 4,
   "metadata": {},
   "outputs": [
    {
     "name": "stdout",
     "output_type": "stream",
     "text": [
      "Nilai z: 2.4854\n",
      "Nilai z_alpha: 1.6449\n",
      "Nilai p: 0.0129\n"
     ]
    },
    {
     "data": {
      "image/png": "[encoded data removed]",
      "text/plain": [
       "<Figure size 864x432 with 1 Axes>"
      ]
     },
     "metadata": {
      "needs_background": "light"
     },
     "output_type": "display_data"
    }
   ],
   "source": [
    "\n",
    "miu = 7\n",
    "alpha = 0.05\n",
    "\n",
    "#calculate z and p using ztest module\n",
    "z, p = ztest(df[\"pH\"], value=miu)\n",
    "\n",
    "#calculate z_alpha\n",
    "z_a = st.norm.ppf(1-alpha)\n",
    "\n",
    "print(f\"Nilai z: {round(z, 4)}\")\n",
    "print(f\"Nilai z_alpha: {round(z_a, 4)}\")\n",
    "print(f\"Nilai p: {round(p, 4)}\")\n",
    "df[\"pH\"].plot(kind=\"box\", figsize=(12,6))\n",
    "plt.title=(\"pH\")\n",
    "plt.show()\n",
    "\n"
   ]
  },
  {
   "cell_type": "markdown",
   "metadata": {},
   "source": [
    "Nilai $z$ lebih besar dibandingkan dengan $z_\\alpha$ $(2.4854 > 1.6449)$  \n",
    "Nilai $p$ lebih kecil dibandingkan $\\alpha$  $(0.0129 < 0.05)$  \n",
    "Maka tolak $H_0$\n",
    "\n",
    "**Kesimpulan: rata-rata pH lebih dari $7$**"
   ]
  },
  {
   "cell_type": "markdown",
   "metadata": {},
   "source": [
    "#### b) Nilai rata rata hardness tidak sama dengan 205?"
   ]
  },
  {
   "cell_type": "markdown",
   "metadata": {},
   "source": [
    "$H_0$: Nilai rata rata Hardness sama dengan $205$ ($\\mu = 205$)  \n",
    "$H_1$: Nilai rata rata Hardness tidak sama dengan $205$ ($\\mu \\ne 205$)\n",
    "\n",
    "Tingkat Signifikan $\\alpha = 0.05$\n",
    "\n",
    "Lakukan uji statistik dengan two tailed test karena harus di cek pada bagian kanan $\\mu > 205$ dengan $z > z_{\\alpha/2}$ dan pada bagian kiri $\\mu < 205$ dengan $z < -z_{\\alpha/2}$\n",
    "\n",
    "Hitung nilai z dengan rumus\n",
    "\n",
    "$$ z = \\frac{\\bar{x} - \\mu_0}{\\sigma/\\sqrt{n}} $$\n",
    "\n",
    "Tolak $H_0$ jika $(z > z_{\\alpha/2}$ atau $z < -z_{\\alpha/2})$ dan $p < \\alpha$  \n",
    "Terima $H_0$ jika $-z_{\\alpha/2} \\le z \\le z_{\\alpha/2}$ dan $p \\ge \\alpha$"
   ]
  },
  {
   "cell_type": "code",
   "execution_count": 5,
   "metadata": {},
   "outputs": [
    {
     "name": "stdout",
     "output_type": "stream",
     "text": [
      "Nilai z: -12.4031\n",
      "Nilai z_alpha/2: 1.96\n",
      "Nilai p: 0.0\n"
     ]
    },
    {
     "data": {
      "image/png": "[encoded data removed]",
      "text/plain": [
       "<Figure size 864x432 with 1 Axes>"
      ]
     },
     "metadata": {
      "needs_background": "light"
     },
     "output_type": "display_data"
    }
   ],
   "source": [
    "\n",
    "miu = 205\n",
    "alpha = 0.05\n",
    "\n",
    "#calculate z and p using ztest module\n",
    "z, p = ztest(df[\"Hardness\"], value=miu)\n",
    "\n",
    "#calculate z_alpha\n",
    "z_a = st.norm.ppf(1-alpha/2)\n",
    "\n",
    "print(f\"Nilai z: {round(z, 4)}\")\n",
    "print(f\"Nilai z_alpha/2: {round(z_a, 4)}\")\n",
    "print(f\"Nilai p: {round(p, 4)}\")\n",
    "df[\"Hardness\"].plot(kind=\"box\", figsize=(12, 6))\n",
    "plt.title=(\"Hardness\")\n",
    "plt.show()\n"
   ]
  },
  {
   "cell_type": "markdown",
   "metadata": {},
   "source": [
    "Nilai $z$ lebih kecil dibandingkan dengan $-z_{\\alpha/2}$ $(-12.4031 < 1.96)$  \n",
    "Nilai $p$ lebih kecil dibandingkan $\\alpha$  $(0 < 0.05)$  \n",
    "Maka tolak $H_0$\n",
    "\n",
    "**Kesimpulan: rata-rata Hardness tidak sama dengan $205$**"
   ]
  },
  {
   "cell_type": "markdown",
   "metadata": {},
   "source": [
    "#### c) Nilai Rata-rata 100 baris pertama kolom Solids bukan 21900?"
   ]
  },
  {
   "cell_type": "markdown",
   "metadata": {},
   "source": [
    "$H_0$: Nilai rata rata 100 baris pertama kolom Solids sama dengan $21900$ ($\\mu = 21900$)  \n",
    "$H_1$: Nilai rata rata 100 baris pertama kolom Solids tidak sama dengan $21900$ ($\\mu \\ne 21900$)\n",
    "\n",
    "Tingkat Signifikan $\\alpha = 0.05$\n",
    "\n",
    "Lakukan uji statistik dengan two tailed test karena harus di cek pada bagian kanan $\\mu > 21900$ dengan $z > z_{\\alpha/2}$ dan pada bagian kiri $\\mu < 21900$ dengan $z < -z_{\\alpha/2}$\n",
    "\n",
    "Hitung nilai z dengan rumus\n",
    "\n",
    "$$ z = \\frac{\\bar{x} - \\mu_0}{\\sigma/\\sqrt{n}} $$\n",
    "\n",
    "Tolak $H_0$ jika $(z > z_{\\alpha/2}$ atau $z < -z_{\\alpha/2})$ dan $p < \\alpha$  \n",
    "Terima $H_0$ jika $-z_{\\alpha/2} \\le z \\le z_{\\alpha/2}$ dan $p \\ge \\alpha$"
   ]
  },
  {
   "cell_type": "code",
   "execution_count": 6,
   "metadata": {},
   "outputs": [
    {
     "name": "stdout",
     "output_type": "stream",
     "text": [
      "Nilai z: 0.5637\n",
      "Nilai z_alpha/2: 1.96\n",
      "Nilai p: 0.573\n"
     ]
    },
    {
     "data": {
      "image/png": "[encoded data removed]",
      "text/plain": [
       "<Figure size 864x432 with 1 Axes>"
      ]
     },
     "metadata": {
      "needs_background": "light"
     },
     "output_type": "display_data"
    }
   ],
   "source": [
    "\n",
    "miu = 21900\n",
    "alpha = 0.05\n",
    "\n",
    "#calculate z and p using ztest module\n",
    "z, p = ztest(df[\"Solids\"].head(100), value=miu)\n",
    "\n",
    "#calculate z_alpha/2\n",
    "z_a = st.norm.ppf(1-alpha/2)\n",
    "\n",
    "print(f\"Nilai z: {round(z, 4)}\")\n",
    "print(f\"Nilai z_alpha/2: {round(z_a, 4)}\")\n",
    "print(f\"Nilai p: {round(p, 4)}\")\n",
    "df[\"Solids\"].plot(kind=\"box\", figsize=(12, 6))\n",
    "plt.title = (\"Solids\")\n",
    "plt.show()\n"
   ]
  },
  {
   "cell_type": "markdown",
   "metadata": {},
   "source": [
    "Nilai $z$ berada pada rentang $-z_{\\alpha/2} \\le z \\le z_{\\alpha/2}$ $(-1.96 \\le 0.5637 \\le 1.96)$  \n",
    "Nilai $p$ lebih besar dibandingkan $\\alpha$  $(0.573 \\ge 0.05)$  \n",
    "Maka terima $H_0$\n",
    "\n",
    "**Kesimpulan: rata-rata 100 baris pertama kolom solids sama dengan $21900$**"
   ]
  },
  {
   "cell_type": "markdown",
   "metadata": {},
   "source": [
    "#### d) Proporsi nilai Conductivity yang lebih dari 450, adalah tidak sama dengan 10%?"
   ]
  },
  {
   "cell_type": "markdown",
   "metadata": {},
   "source": [
    "$H_0$: Proporsi nilai Conductivity yang lebih dari 450 sama dengan $10\\%$ ($p = 0.1$)  \n",
    "$H_1$: Proporsi nilai Conductivity yang lebih dari 450 tidak sama dengan $10\\%$ ($p \\ne 0.1$)  \n",
    "\n",
    "Tingkat Signifikan $\\alpha = 0.05$\n",
    "\n",
    "Lakukan uji statistik dengan two tailed test karena harus di cek pada bagian kanan dengan $z > z_{\\alpha/2}$ dan pada bagian kiri dengan $z < -z_{\\alpha/2}$\n",
    "\n",
    "Hitung nilai z dengan rumus\n",
    "\n",
    "$$ z = \\frac{\\hat{p} - p_0}{\\sqrt{p_0q_0/n}} $$\n",
    "\n",
    "Tolak $H_0$ jika $(z > z_{\\alpha/2}$ atau $z < -z_{\\alpha/2})$ dan $p < \\alpha$  \n",
    "Terima $H_0$ jika $-z_{\\alpha/2} \\le z \\le z_{\\alpha/2}$ dan $p \\ge \\alpha$"
   ]
  },
  {
   "cell_type": "code",
   "execution_count": 7,
   "metadata": {},
   "outputs": [
    {
     "name": "stdout",
     "output_type": "stream",
     "text": [
      "Nilai z: 40.4464\n",
      "Nilai z_alpha/2: 1.96\n",
      "Nilai p: 0.0\n"
     ]
    },
    {
     "data": {
      "image/png": "[encoded data removed]",
      "text/plain": [
       "<Figure size 864x432 with 1 Axes>"
      ]
     },
     "metadata": {
      "needs_background": "light"
     },
     "output_type": "display_data"
    }
   ],
   "source": [
    "p_0 = 0.10\n",
    "alpha = 0.05\n",
    "\n",
    "conductivity_over_450 = len(df[df[\"Conductivity\"] > 450])\n",
    "\n",
    "z, p = proportions_ztest(conductivity_over_450,\n",
    "                         len(df), value=p_0, prop_var=p_0)\n",
    "z_a = st.norm.ppf(1-alpha/2)\n",
    "\n",
    "print(f\"Nilai z: {round(z, 4)}\")\n",
    "print(f\"Nilai z_alpha/2: {round(z_a, 4)}\")\n",
    "print(f\"Nilai p: {round(p, 4)}\")\n",
    "df[\"Conductivity\"].plot(kind=\"box\", figsize=(12, 6))\n",
    "plt.title = (\"Conductivity\")\n",
    "plt.show()\n"
   ]
  },
  {
   "cell_type": "markdown",
   "metadata": {},
   "source": [
    "Nilai $z$ lebih dari $z_{\\alpha/2}$ $(40.4464 > 1.96)$  \n",
    "Nilai $p$ lebih kecil dibandingkan $\\alpha$  $(0.0 < 0.05)$  \n",
    "Maka tolak $H_0$\n",
    "\n",
    "**Kesimpulan: Proporsi nilai Conductivity yang lebih dari 450 tidak sama dengan $10\\%$**"
   ]
  },
  {
   "cell_type": "markdown",
   "metadata": {},
   "source": [
    "#### e) Proporsi nilai Trihalomethanes yang kurang dari 40, adalah kurang dari 5%"
   ]
  },
  {
   "cell_type": "markdown",
   "metadata": {},
   "source": [
    "$H_0$: Proporsi nilai Trihalomethanes yang kurang dari 40 sama dengan $5\\%$ ($p = 0.05$)  \n",
    "$H_1$: Proporsi nilai Trihalomethanes yang kurang dari 40 kurang dari $5\\%$ ($p < 0.05$)  \n",
    "\n",
    "Tingkat Signifikan $\\alpha = 0.05$\n",
    "\n",
    "Lakukan uji statistik dengan one tailed test karena harus di cek pada bagian kiri dengan $z < z_{\\alpha}$\n",
    "\n",
    "Hitung nilai z dengan rumus\n",
    "\n",
    "$$ z = \\frac{\\hat{p} - p_0}{\\sqrt{p_0q_0/n}} $$\n",
    "\n",
    "Tolak $H_0$ jika $z < z_\\alpha$ dan $p < \\alpha$  \n",
    "Terima $H_0$ jika $z \\ge z_\\alpha$ dan $p \\ge \\alpha$"
   ]
  },
  {
   "cell_type": "code",
   "execution_count": 8,
   "metadata": {},
   "outputs": [
    {
     "name": "stdout",
     "output_type": "stream",
     "text": [
      "Nilai z: 0.5629\n",
      "Nilai z_alpha: 1.6449\n",
      "Nilai p: 0.5735\n"
     ]
    },
    {
     "data": {
      "image/png": "[encoded data removed]",
      "text/plain": [
       "<Figure size 864x432 with 1 Axes>"
      ]
     },
     "metadata": {
      "needs_background": "light"
     },
     "output_type": "display_data"
    }
   ],
   "source": [
    "p_0 = 0.05\n",
    "alpha = 0.05\n",
    "\n",
    "trihalomethanes_less_40 = len(df[df[\"Trihalomethanes\"] < 40])\n",
    "\n",
    "z, p = proportions_ztest(trihalomethanes_less_40,\n",
    "                         len(df), value=p_0, prop_var=p_0)\n",
    "z_a = st.norm.ppf(1-alpha)\n",
    "\n",
    "print(f\"Nilai z: {round(z, 4)}\")\n",
    "print(f\"Nilai z_alpha: {round(z_a, 4)}\")\n",
    "print(f\"Nilai p: {round(p, 4)}\")\n",
    "df[\"Trihalomethanes\"].plot(kind=\"box\", figsize=(12, 6))\n",
    "plt.title = (\"Trihalomethanes\")\n",
    "plt.show()\n"
   ]
  },
  {
   "cell_type": "markdown",
   "metadata": {},
   "source": [
    "Nilai $z$ lebih kecil dari $z_{\\alpha}$ $(0.5629 < 1.6449)$  \n",
    "Nilai $p$ lebih besar dibandingkan $\\alpha$  $(0.5735 > 0.05)$  \n",
    "Maka terima $H_0$\n",
    "\n",
    "**Kesimpulan: Proporsi nilai Trihalomethanes yang kurang dari 40 kurang dari $5\\%$**"
   ]
  }
 ],
 "metadata": {
  "interpreter": {
   "hash": "b5d60f89743eeca39aa0845c4994027250480cef9f28ddce065d1fe0a8ddd96c"
  },
  "kernelspec": {
   "display_name": "Python 3.8.8 64-bit ('base': conda)",
   "name": "python3"
  },
  "language_info": {
   "codemirror_mode": {
    "name": "ipython",
    "version": 3
   },
   "file_extension": ".py",
   "mimetype": "text/x-python",
   "name": "python",
   "nbconvert_exporter": "python",
   "pygments_lexer": "ipython3",
   "version": "3.8.8"
  },
  "orig_nbformat": 4
 },
 "nbformat": 4,
 "nbformat_minor": 2
}
